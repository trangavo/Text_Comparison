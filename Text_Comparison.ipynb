{
 "cells": [
  {
   "cell_type": "code",
   "execution_count": 33,
   "metadata": {},
   "outputs": [],
   "source": [
    "# create a Node class for characters\n",
    "class Node():\n",
    "    # initialize properties - characters, frequencies, children and code\n",
    "    def __init__(self, char, val):\n",
    "        self.char = char\n",
    "        self.val = val\n",
    "        self.left = None\n",
    "        self.right = None\n",
    "        self.code = ''\n",
    "    # determine what property to compare 2 nodes on\n",
    "    def __lt__(self, other):\n",
    "        return self.val < other.val\n",
    "    # to print out the nodes\n",
    "    def __str__(self):\n",
    "        return str(self.char) + ': ' + str(self.val)\n",
    "    \n",
    "# to maintain a min-heap structure, top to bottom\n",
    "def heapify(node_list, i):\n",
    "    # get the index of 2 children\n",
    "    left = 2*i + 1\n",
    "    right = 2*i + 2\n",
    "    # compared with its children, get the smaller one\n",
    "    smallest = i\n",
    "    if left < len(node_list) and node_list[left] < node_list[i]:\n",
    "        smallest = left\n",
    "    if right < len(node_list) and node_list[right] < node_list[smallest]:\n",
    "        smallest = right\n",
    "    # if smaller than one of its children, swap\n",
    "    if smallest != i:\n",
    "        node_list[smallest], node_list[i] = node_list[i], node_list[smallest]\n",
    "        # recursively fix the tree to maintain min-heap structure\n",
    "        heapify(node_list, smallest)\n",
    "        \n",
    "# to maintain a min-heap structure, similar to the above, but traversing bottom to top\n",
    "def heapify_2(node_list, i):\n",
    "    bigger = i\n",
    "    # get the parent\n",
    "    if i % 2 == 0:\n",
    "        p = int((i-2)/2)\n",
    "    else:\n",
    "        p = int((i-1)/2)\n",
    "    if p >= 0 and node_list[i] < node_list[p]:\n",
    "        bigger = p\n",
    "    # if the parent is bigger, swap\n",
    "    if bigger != i:\n",
    "        node_list[i], node_list[bigger] = node_list[bigger], node_list[i]\n",
    "        heapify_2(nodelist, bigger)\n",
    "        \n",
    "# build a min heap\n",
    "def build_heap(node_list):\n",
    "    for i in range(len(node_list)//2,-1,-1):\n",
    "        heapify(node_list, i)\n",
    "\n",
    "# get the smallest (root) of the heap\n",
    "def heappop(node_list):\n",
    "    # swap the root and the last leaf\n",
    "    node_list[0], node_list[-1] = node_list[-1], node_list[0]\n",
    "    # get the root\n",
    "    small = node_list.pop()\n",
    "    # maintain heap structure\n",
    "    heapify(node_list, 0)\n",
    "    return small\n",
    "\n",
    "# insert an element to the heap\n",
    "def heappush(node_list, new):\n",
    "    node_list.append(new)\n",
    "    heapify_2(node_list, len(node_list)-1)\n",
    "\n",
    "\n",
    "# get the frequency of each distinct character\n",
    "def freq_dict(text, freq_dict):\n",
    "    # convert all to lowercase\n",
    "    text = text.lower()\n",
    "    for char in text:\n",
    "        # add new key to the dictionary\n",
    "        if char not in freq_dict:\n",
    "            freq_dict[char] = 1\n",
    "        # increase the frequency\n",
    "        else:\n",
    "            freq_dict[char] += 1\n",
    "    return freq_dict\n",
    "\n",
    "# build the code tree\n",
    "def code_tree(freq_dict):\n",
    "    # make a list of nodes of characters and their frequencies\n",
    "    q = [Node(char = key, val = freq_dict[key]) for key in freq_dict]\n",
    "    n = len(q)\n",
    "    # make a min heap of frequencies\n",
    "    build_heap(q)\n",
    "    # build the code tree\n",
    "    for i in range(n-1):\n",
    "        z = Node(None, None)\n",
    "        # remove the 2 smallest nodes and make them children of a new node\n",
    "        z.left = x = heappop(q)\n",
    "        z.right = y = heappop(q)\n",
    "        z.val = x.val + y.val\n",
    "        # push the new node to the heap\n",
    "        heappush(q, z)\n",
    "    return q\n",
    "\n",
    "# encode each character\n",
    "def encode(z, code_dict):\n",
    "    # traverse down to the left\n",
    "    if z.left != None:\n",
    "        # add 0 to code if it's a left child\n",
    "        z.left.code = z.code + '0'\n",
    "        # if a code has a character, add to the code dictionary\n",
    "        if z.left.char != None:\n",
    "            code_dict[z.left.char] = z.left.code\n",
    "        # recursively run down to the left\n",
    "        encode(z.left, code_dict)\n",
    "    # traverse down to the right\n",
    "    if z.right != None:\n",
    "        # add 1 to code if it's a right child\n",
    "        z.right.code = z.code + '1'\n",
    "        # if a code has a character, add to the code dictionary\n",
    "        if z.right.char != None:\n",
    "            code_dict[z.right.char] = z.right.code\n",
    "        # recursively run down to the right\n",
    "        encode(z.right, code_dict)\n",
    "    return code_dict\n",
    "\n",
    "# encode the text\n",
    "def text_to_code(text, code_dict):\n",
    "    # convert all to lowercase\n",
    "    text = text.lower()\n",
    "    code = code_dict\n",
    "    code_string = ''\n",
    "    # convert each character to its code and add to the code string\n",
    "    for each in text:\n",
    "        code_string += code[each]\n",
    "    return code, code_string\n",
    "\n",
    "# decode the text\n",
    "def code_to_text(code_str, code_dict, new_text):\n",
    "    # reverse key-value in the code dictionary\n",
    "    reverse_code = {code_char: char for char, code_char in code_dict.items()}\n",
    "    string = ''\n",
    "    for i in code_str:\n",
    "        string += i\n",
    "        # if a code substring is valid\n",
    "        if string in reverse_code:\n",
    "            # add the corresponding character to the text\n",
    "            new_text += reverse_code[string]\n",
    "            string = ''\n",
    "    return new_text"
   ]
  },
  {
   "cell_type": "code",
   "execution_count": 34,
   "metadata": {},
   "outputs": [],
   "source": [
    "# use bitwise XOR to see if 2 substrings of the same length are similar\n",
    "def compare(a, b):\n",
    "    a = '0b' + a\n",
    "    b = '0b' + b\n",
    "    # get the XOR result\n",
    "    c = bin(int(a, 2) ^ int(b, 2))\n",
    "    d = len(a) - len(c)\n",
    "    # make the result equal length to the string (in case of 0 at the beginning)\n",
    "    if d > 0:\n",
    "        c = '0b' + d*'0' + c[2:]\n",
    "    return c\n",
    "\n",
    "# see how similar 2 strings are by running one along the other and comparing\n",
    "def similar(str1, str2, j, f, l):\n",
    "    sim_list = {}\n",
    "    # make the smaller one the first string - the one that runs\n",
    "    if len(str1) > len(str2):\n",
    "        str1, str2 = str2, str1\n",
    "    k = -j\n",
    "    # compare the end of first string and the start of the second\n",
    "    while k >= -len(str1):\n",
    "        a = str1[k:]\n",
    "        b = str2[:-k]\n",
    "        xor = compare(a, b)[2:]\n",
    "        # see if there's any part that is very similar (the XOR result as a long string of 0s)\n",
    "        if '0'*f in xor:\n",
    "            sim_list[xor] = [a, b]\n",
    "        # move the first string along the second one by j slots, until it is entirely compared to the starting part of the second part\n",
    "        if k == -len(str1):\n",
    "            break\n",
    "        if k >= -len(str1) + j:\n",
    "            k -= j\n",
    "        else:\n",
    "            k = -len(str1)\n",
    "            \n",
    "    s = j\n",
    "    e = j + len(str1)\n",
    "    # continue to move the first along to compare it with part of the 2nd one, until it reaches the end of the second one\n",
    "    while e <= (len(str2)):\n",
    "        a = str1\n",
    "        b = str2[s:e]\n",
    "        xor = compare(a, b)[2:]\n",
    "        # see if there's any part that is very similar (the XOR result as a long string of 0s)\n",
    "        if '0'*f in xor:\n",
    "            sim_list[xor] = [a, b]\n",
    "        if e == len(str2):\n",
    "            break\n",
    "        # move the first string along the 2nd one by j slots\n",
    "        if e <= len(str2)-j:\n",
    "            e += j\n",
    "            s += j\n",
    "        else:\n",
    "            e = len(str2)\n",
    "            s = e - len(str1)\n",
    "            \n",
    "    m = len(str1)-j\n",
    "    # continue to move the first string along to compare the beginning of it to the end of the 2nd string, until it totally passes all of the 2nd one\n",
    "    while m > 0:\n",
    "        a = str1[:m]\n",
    "        b = str2[-len(a):]\n",
    "        xor = compare(a, b)[2:]\n",
    "        # see if there's any part that is very similar (the XOR result as a long string of 0s)\n",
    "        if '0'*f in xor:\n",
    "            sim_list[xor] = [a, b]\n",
    "        m = m-j\n",
    "        \n",
    "    # if there's more than 5 pairs of substrings that are similar, conclude that the 2 strings are similar\n",
    "    if len(sim_list) > l:\n",
    "        return len(sim_list), '2 sequences are somewhat similar'\n",
    "    else:\n",
    "        return len(sim_list), '2 sequences are not similar'\n"
   ]
  },
  {
   "cell_type": "code",
   "execution_count": 35,
   "metadata": {},
   "outputs": [],
   "source": [
    "str_1 = 'CCTTGACCAATGACTTTCAAGTACCACGGAAAACAGGGGGGCAGAACTTCAGCAGTAAAGAATAAAAGGCCATGCAGAGAAGCAGCTGCACATGATCTGCTTCCGACACAGCTACAATCACCAGCGAGCTCTCAGACCTGACATCATGGTGCATTTTACTGCTGAGGAGAAGGCTGCCATCACTAGCCTGTGGGGCAAGATGAATGTGGAAGAGGCTGGAGGTGAAGCCTTGGGCAGGTAAGCAGTGGTTCTCAATGCATTGGGAATAAAGGGTGAGATATTACCTTTGCAAGTTGATTGGGAAAGTCTTCAAGATTTGTTAGCATCTCTAATGTTGTATCTGATATGGTGCCATTTCATAGGCTCCTGGTTGTTTACCCCTGGACCCAGAGATTTTTTGACAACTTTGGAAACCTGTCCTCTCCCCTGCCATCCTGGGCAACCCCAAGGTCAAGGCCCATGGCAAGAAGGTGCTGACATCCTTTGGAGATGCTATTAAAAACATGGATCAACCTCAAACCACCTTTGCTAAGCTAAGTGAGCTGCACTGTGACAAGTTGCATGTGGATCCTGAGAACTTCAGGGTGAGTTCAGGCGCGGGTGATGTGATTGTTTTGGCTTTCTTATTGACATTAATTGAGGTTGAGAATCTTATTGGAAACACCAGCAAAGATCTCAGAAATCATGGGTCTAGCTTGATTTTAGAACAGCAGACTTCGTAGTGTGCATAACCAAGGCTACCTTTGATTCAGAGCTAGTGACAGTAAAGGGCTACTTGGCTTAACTTTTAAGAAATCTTGCCAGAACTTGATGTGTTTATCCTGGAGAATAGTATTATAAAATTGTAGACTTGTGCAAGGAGAATGAAATTTGGCTTTTGATAGATGAAAGCCTGTTTCAAGGAAATAGAAATGCCTTATTTATGGGTCATGATAACTGAGGTTTAGGAAGAGATGTTTGAAACAAAAATTAAAAGATTTTCTCAAAGAAAAATAAGACTAATTTTCTAAAATAGATTAAATTTCCCATCAGTATTGTGACCAAGTGAAGGTTTGTTCTGTATTTGTTAGGGATTTTAAACCTCCATGAGAACTCTTGCAGCACTAACATTCTAAGTTTACAGAAATTAGATAACTGGTTAAAGAAAAATACTGGTAACATGAGGAGAGGGTGAGGGTATAGGTAGGCAGAATGTTGAATGTAAGGCTCATAAAATAAATTTGAACTCAAGCTCATCTGAACTTTTTGGTAGGCACAACACCTTGAAACAGTTTGAGGTCCAGGTTGCAAGGAATGTAGGTATAAAGCCTTTTTTTTTTTTTTTCAGCAAATTGTTTTTGAAAACTTCTGTTCAACATGCCTATGTGTTATTTTGTCTTTTGCCTAACAGCTCCTGGGTAACGTGATGGTGATTATTCTGGCTACTCACTTTGGCAGAGGAGTTCACTCCTGAGGTGCAGGCTGCCTGGCAGAAGCTGGTGTCGCTGTGGCCATTGCCTTGGGTCACAAGTACCACTGAGTTATCTCCCAGTTTGCCAGTGTTCCTGTGACCCTGACACCCTTCTTCTGCACATGAATACTGGGCTTGGCCTTGAGAGGAAGGTTTCTGTTTAATAAAGTACATTTTCTTCAGTAATCAAAATTGCAACTTCACTTCTGCCATCTTGTACTCTTGTGCTAAAGGAAAAG'"
   ]
  },
  {
   "cell_type": "code",
   "execution_count": 44,
   "metadata": {},
   "outputs": [
    {
     "name": "stdout",
     "output_type": "stream",
     "text": [
      "True True\n"
     ]
    }
   ],
   "source": [
    "text_1 = code_to_text(coded_text_1[1], code_dictionary, '')\n",
    "text_2 = code_to_text(coded_text_2[1], code_dictionary, '')\n",
    "print(text_1.upper() == str_1, text_2.upper() == str_2)"
   ]
  },
  {
   "cell_type": "code",
   "execution_count": 37,
   "metadata": {},
   "outputs": [],
   "source": [
    "str_2 = 'CCTTGACCAATGACTTTTAAGTACCACGGAAAACAGGGGGGCAGAAGTTCAGCAGTAAAGAATAAAAGGCCATGCAGAGAAGCAGCTGCACATATCTGCTTCTGACACAGTACAATCACCAGCAAGCTCTCAGACCTGACATCATGGTGCATTTTACTGCTGAGGAGAAGGCATGCCATCACTAGCCTGTGGGGCAAGATGAATGTGGAAGAGGCTGGAGGTGAAGCCTTGGGCAGGTAAGCATTGGTTCTCAATGCATGGGAATAAAGGGTGAATATTACCTTTGCAAGCTGATTGGGAAAGTCTTCAAGATTTGATAGCATCTCTAATGTTGTATCTGATATGGTGCCATTTGCATAGGCTCCTGGTTGTTTACCCCTGGACCAGAGATTTTTCGACAACTTTGGAAACCTGTCCTCTCCCTCTGCCATCCTGGGCAACCCCAAGGTCAAGGCCCATGCAAGAAGGTGCTGACATCCTTTGGAGATGCTATTAAAAACATGGACAACCTCAAGACCACCTTTGCTAACTAATGAGCTGCACTGTGACAAGTTGCATGTGGATCCTGAGAACTTCAGGGTGAGTTCAGGCGCGGGTGATGTGATTTTTTTGGCTTTCTATATTGACATTAATTGAGGTTGAGAATCTTATTGGAAACACCAACAAAGATCTCAGAAATCATGGGTCTAGCTTGATTTTAGAACAGCAGACTTCTAGTGTGCATAACCAAGGCTAAACTTGATTCAGAGCTAGTGACAGTAAAGGGCTACTTGGCTTAACTTTTCAAGAAATCTTGCCAGAACTTGATGTGTTTATCCTGAGAATAGTATTAAAAATTGTAGACTTGTGCAAGGAGAATGAAATTTGGCTTTTGATAGATGAAAGCCTGTTTCAAGGAAATAGAAATGCCTTATTTATGGGTCATGATAACTGAGGTTTAGGAAGAGAGTTTGAACAAAAATTAAAAGATTTTTCTCAAAGAAAAATAAGACTAATTTTCTAAAATAGATTAAATTTCCCATCAGTATTGTGACCAAGTGAAGGTTTGTTTCTGTATTTGTTAAGGATTTTAAACCTTCATGAGAACTCTTGCAGCACTAACATTCTAAGTTTACAGAAATTAGATAACTGGTTAAAGAAAAATACTGGTAACATGAGGAGAGGGTGAGGGTATAGGTAGGTAGAATGTTGGAATGTAGGGCTCATAAAAATAAATTTGAACTCAAGCTCTATCTGAACTTTTTGGGTAGGCACAAACCTTGAAACAGTTTGAGGTCCAGGTTGTCAAGGAATGTAGGTATAAAGCCTTTTTTTTTTTTTTTCAGCAAATTGTTTTTGGAAACTTCTGTTCAACATGCCTATGTGTTATTTTGTCTTTTGCCTAACAGCTCCTGGGTAACGTGATGGTGATTATTCTGGCTACTCACTTTGGCAAGGAGTTCACTCCTGAGGTGCAGGCTGCCTGGCAGAAGCTGGTGTCTGCTGTGGCCATTGCCTTGGGTCACAAGTACCACTGAGTTATCTCCCAGTTTGCCAGTGTTCCTGTGACCCTGACACCCTTCTTCTGCACATGAATACTGGGCTTGGCCTTGAGAGGAAGGTTTCTGTTTAATAAAGTACATTTTCTTCAGTAATCAAAAATTTCAACTTTATCTTCTCCATCTTGTACTCTTGTGTTAAAGGAAAAG'"
   ]
  },
  {
   "cell_type": "code",
   "execution_count": 38,
   "metadata": {},
   "outputs": [
    {
     "name": "stdout",
     "output_type": "stream",
     "text": [
      "{'c': 309, 't': 503, 'g': 394, 'a': 483}\n"
     ]
    }
   ],
   "source": [
    "frequency_dict = freq_dict(str_1, {})\n",
    "print(frequency_dict)"
   ]
  },
  {
   "cell_type": "code",
   "execution_count": 39,
   "metadata": {},
   "outputs": [
    {
     "name": "stdout",
     "output_type": "stream",
     "text": [
      "None: 1689\n"
     ]
    }
   ],
   "source": [
    "binary_code_tree = code_tree(frequency_dict)\n",
    "print(binary_code_tree[0])"
   ]
  },
  {
   "cell_type": "code",
   "execution_count": 40,
   "metadata": {},
   "outputs": [
    {
     "name": "stdout",
     "output_type": "stream",
     "text": [
      "{'c': '00', 'g': '01', 'a': '10', 't': '11'}\n"
     ]
    }
   ],
   "source": [
    "code_dictionary = encode(binary_code_tree[0], {})\n",
    "print(code_dictionary)"
   ]
  },
  {
   "cell_type": "code",
   "execution_count": 41,
   "metadata": {},
   "outputs": [
    {
     "name": "stdout",
     "output_type": "stream",
     "text": [
      "({'c': '00', 'g': '01', 'a': '10', 't': '11'}, '000011110110000010101101100011111100101001111000001000010110101010001001010101010100100110100011110010010010011110101001101011101010100101000010110100100110011010010010010011010010001011011011001101001111000001100010001001001110001010110010000010010001100100110011001001100000110110001011001011010111010010111111111000110100110110010110011010010100110100001011001000111001000011011101010101001010011011011010110111010110100110010100110101100101110110100100001111010101001001011110100100100111010111110011001010110100101111010101101011101010010101110110011011101111100000111111010010100111110110111101010110101001110011110010100110111111011111100100101100110011101011011111011110110011011011101101011101000010111111001011100101001100001101011111011111111000000000110101100000001001100110111111111111011000101000111111010110101000001101110000110011000000001101000010110000110101010010100000000010100101110010100101000000101101010010100110100101110100110110001011000011111101011001101101001110111110101010100010110101101100101000001100101010000010000011111101001110100100111010011101100100110100100011011101100010100111110100101101110101101100001101100110100011110010010101110110011111001001010001000101011101101101110110111101111111110101001111110011111011110110001011111010111101100101111101100110101100111110111101011010100010000010010010101001101100110010011010101100101101010111001110010011110110111111111001101000100100100110001111000111100111011101001011101000001010010100111000001111110110111100100110010011100111011000100111101010010101001110001111010100111110100011111111101001101010110011110100001001101000111101101101110111111110110000110101100110101110011110111110111010101011110111100110001111011101001010010110011010110110101011111101010011111111011011100110110110101001000011011111110010100101101010111001101010110100001111101111111011010101110010110110111010001101100101111111100101101001100110110111111101101010001010101010111110101010011011111111001100101010011010101010111010011000111010111111110011101010101110011011111010101111110000001011001001111011110111011000001010011101101001011111110111110011011110111111011111100101011011111111101010000011000010110110011010001100111101001001001000111010001011110011101001111111100010011010101111100110111010001101011111101010011010101010111000110101111010001011011001011001100101011101100101011110111001011110010100100110101101111101101011011110100101001100101110101010111010101111110110100011001010010011001011001101101000111111111101011110010100100010100010000011110110101000100111111101100101110000100101111101001010010110101101111001011110111010100100001111111111111111111111111111110010010010101011110111111111110110101010001111001101111100101000101101000011101101110111111011111111011100111111110100001110100010010011000011010101111010000111011011010111011011111011110011010100111000110010001111110101001001100101100111110010001100001101100101110100100101001101000011010100100110100100110101110111000100110111010100001011110100001111010101110010001010011110000010001101100111111011001100000010011111110100001001110111110000110111011000000011011000100000001111001111001101001000101101101011100011010101001111010100001111011001100101101001011111110011011111111010111010100111100010111111110011110010011110101100101010101111010010100011110010001111001101000010110011110111100011001111011101001110101001011010101001')\n"
     ]
    }
   ],
   "source": [
    "coded_text_1 = text_to_code(str_1, code_dictionary)\n",
    "print(coded_text_1)"
   ]
  },
  {
   "cell_type": "code",
   "execution_count": 42,
   "metadata": {},
   "outputs": [
    {
     "name": "stdout",
     "output_type": "stream",
     "text": [
      "({'c': '00', 'g': '01', 'a': '10', 't': '11'}, '0000111101100000101011011000111111111010011110000010000101101010100010010101010101001001101001111100100100100111101010011010111010101001010000101101001001100110100100100100110100100010111011001101001111001101100010001001111000101011001000001001001010010011001100100110000011011000101100101101011101001011111111100011010011011001011001101001010010110100001011001000111001000011011101010101001010011011011010110111010110100110010100110101100101110110100100001111010101001001011110100100101111010111110011001010110100101101010110101110101001010111011010111011111000001111110100101001001101101111010101101010011100111100101001101111110110111001001011001100111010110111110111101100110110111011010111010000101111110100101110010100110000110101111101111111100000000011010110000010011001101111111111000110001010001111110101101010000011011100001100110000001100110100001011000011010101001010000000001010010111001010010100000010110100101001101001011101001101100010110000111111010110011011010011101111101010101000101101011000101000001100101001100000100000111111010011101000111010110110010011010010001101110110001010011111010010110111010110110000110110011010001111001001010111011001111100100101000100010101110110110111011011111111111111010100111111001110111011110110001011111010111101100101111101100110101100111110111101011010100010000010100010101001101100110010011010101100101101010111001110010011110110111111111001101000100100100110001111001110011101110100101110100000101001010011101010001111011011110010011001001110011101100010011110101001010100111000111101010011111010001111111100101001101010110011110100001001101000111101101101110111111110110000110110011010111001111011111010101010111101111001100011110111010010100101100110101101101010111111010100111111110110111001101101101010010000110111111100101001011010101110011010101101000011111011111110110101011100101101101110100011011001011111111001011010011001100111111101101000101010101011111010101001101111111111001100101010011010101010111010011000111010111111110011101010101110011011111010101111110000001011001001111011110111011000001010011101101001011111110111111100110111101111110111111010010110111111111010100000111100101101100110100011001111010010010010001110100010111100111010011111111000100110101011111001101110100011010111111010100110101010101110001101011110100010110110010110011001010111011001010111101110010111100101111001101011011111010110101101111001010100110010111010101010111010101111110110100011001010010011001110110011011010001111111111010101111001010010001010100000111101101010001001111111011001011100001001011111011100101001011010110111100101111011101010010000111111111111111111111111111111001001001010101111011111111111010110101000111100110111110010100010110100001110110111011111101111111101110011111111010000111010001001001100001101010111101000011101101101011101101111101111001101010011100011001000111111010100101001011001111100100011000011011001011101001001010011010000110101001001101001001101011101110011010011011101010000101111010000111101010111001000101001111000001000110110011111101100110000001001111111010000100111011111000011011101100000001101100010000000111100111100110100100010110110101110001101010100111101010000111101100110010110100101111111001101111111101011101010011110001011111111001111001001111010110010101010101111110010100011111110110011110011000010110011110111100011001111011101111110101001011010101001')\n"
     ]
    }
   ],
   "source": [
    "# encode the 2nd string using the code of the 1st one\n",
    "coded_text_2 = text_to_code(str_2, code_dictionary)\n",
    "print(coded_text_2)"
   ]
  },
  {
   "cell_type": "code",
   "execution_count": 43,
   "metadata": {},
   "outputs": [
    {
     "name": "stdout",
     "output_type": "stream",
     "text": [
      "(54, '2 sequences are somewhat similar')\n"
     ]
    }
   ],
   "source": [
    "result = similar(coded_text_1[1], coded_text_2[1], 5, 15, 5)\n",
    "print(result)"
   ]
  },
  {
   "cell_type": "code",
   "execution_count": null,
   "metadata": {},
   "outputs": [],
   "source": []
  }
 ],
 "metadata": {
  "kernelspec": {
   "display_name": "Python 3",
   "language": "python",
   "name": "python3"
  },
  "language_info": {
   "codemirror_mode": {
    "name": "ipython",
    "version": 3
   },
   "file_extension": ".py",
   "mimetype": "text/x-python",
   "name": "python",
   "nbconvert_exporter": "python",
   "pygments_lexer": "ipython3",
   "version": "3.6.8"
  }
 },
 "nbformat": 4,
 "nbformat_minor": 2
}
